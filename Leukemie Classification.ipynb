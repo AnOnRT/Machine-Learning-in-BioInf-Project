{
 "cells": [
  {
   "cell_type": "code",
   "execution_count": 57,
   "id": "15ed146d",
   "metadata": {},
   "outputs": [],
   "source": [
    "import os\n",
    "import sys\n",
    "import urllib.request\n",
    "import pandas as pd\n",
    "import numpy as np\n",
    "import matplotlib.pyplot as plt\n",
    "import dill\n",
    "import seaborn as sns\n",
    "import zipfile\n",
    "\n",
    "plt.style.use(\"default\")"
   ]
  },
  {
   "cell_type": "code",
   "execution_count": 60,
   "id": "cffcc0d7",
   "metadata": {},
   "outputs": [],
   "source": [
    "SESSION_FILE = \"session.dill\""
   ]
  },
  {
   "cell_type": "code",
   "execution_count": null,
   "id": "a8f6495a",
   "metadata": {},
   "outputs": [],
   "source": [
    "if os.path.exists(SESSION_FILE):\n",
    "    with open(SESSION_FILE, \"rb\") as f:\n",
    "        session = dill.load(f)"
   ]
  },
  {
   "cell_type": "code",
   "execution_count": 39,
   "id": "361f85c9",
   "metadata": {},
   "outputs": [],
   "source": [
    "class Dataset:\n",
    "    def __init__(self, name=\"Leukemia_GSE28497.csv\",\n",
    "                 url=\"https://sbcb.inf.ufrgs.br/data/cumida/Genes/Leukemia/GSE28497/\"):\n",
    "        self.filepath = name\n",
    "        if not os.path.exists(self.filepath):\n",
    "            print(f\"Downloading dataset {name}...\", file=sys.stderr)\n",
    "            urllib.request.urlretrieve(url + name, filename=name)\n",
    "        self.load_dataset()\n",
    "\n",
    "    def load_dataset(self):\n",
    "        # Load the dataset\n",
    "        self.data = pd.read_csv(self.filepath)\n",
    "        print(self.data.head())\n",
    "        self.data.set_index(self.data.columns[0], inplace=True) #As it is a human identifier, can use it as ind\n",
    "        self.data['type'], self.label_mapping = pd.factorize(self.data['type'])\n",
    "\n",
    "    def get_label_mapping(self):\n",
    "        return self.label_mapping\n"
   ]
  },
  {
   "cell_type": "code",
   "execution_count": 40,
   "id": "0861878b",
   "metadata": {},
   "outputs": [
    {
     "name": "stdout",
     "output_type": "stream",
     "text": [
      "            samples        type  1007_s_at   1053_at    117_at    121_at  \\\n",
      "0  GSM705467.CEL.gz  B-CELL_ALL   7.409521  5.009216  4.173607  7.315369   \n",
      "1  GSM705468.CEL.gz  B-CELL_ALL   7.177109  5.415108  4.426778  7.550818   \n",
      "2  GSM705469.CEL.gz  B-CELL_ALL   6.564918  5.248020  4.252414  7.175169   \n",
      "3  GSM705470.CEL.gz  B-CELL_ALL   6.872028  5.155963  4.388849  7.365933   \n",
      "4  GSM705471.CEL.gz  B-CELL_ALL   7.402105  5.509826  4.284291  7.214947   \n",
      "\n",
      "   1255_g_at   1294_at   1316_at   1320_at  ...  AFFX-r2-Hs28SrRNA-5_at  \\\n",
      "0   3.185411  7.620644  3.731541  3.471587  ...                2.968822   \n",
      "1   3.134181  7.685723  3.907953  3.650995  ...                2.982888   \n",
      "2   3.017718  7.956261  3.354557  3.302989  ...                2.897425   \n",
      "3   3.031735  7.830002  3.508926  3.412491  ...                3.024722   \n",
      "4   2.925269  7.789838  3.610425  3.362593  ...                3.259802   \n",
      "\n",
      "   AFFX-r2-Hs28SrRNA-M_at  AFFX-r2-P1-cre-3_at  AFFX-r2-P1-cre-5_at  \\\n",
      "0                3.223820            11.968681            12.100004   \n",
      "1                3.690411            12.318004            12.486741   \n",
      "2                3.611584            11.748222            11.807578   \n",
      "3                3.713087            12.208588            12.148604   \n",
      "4                4.096010            11.641305            11.713311   \n",
      "\n",
      "   AFFX-ThrX-3_at  AFFX-ThrX-5_at  AFFX-ThrX-M_at  AFFX-TrpnX-3_at  \\\n",
      "0        3.457507        2.967138        2.790814         2.563377   \n",
      "1        3.396412        3.109629        2.856499         2.603355   \n",
      "2        3.265585        3.057079        2.724642         2.440532   \n",
      "3        3.175092        2.896168        2.798296         2.522343   \n",
      "4        3.507025        3.119397        2.761294         2.546541   \n",
      "\n",
      "   AFFX-TrpnX-5_at  AFFX-TrpnX-M_at  \n",
      "0         2.860505         2.608381  \n",
      "1         2.908509         2.634063  \n",
      "2         2.626871         2.673293  \n",
      "3         2.762835         2.624163  \n",
      "4         2.748511         2.738165  \n",
      "\n",
      "[5 rows x 22285 columns]\n"
     ]
    }
   ],
   "source": [
    "dataset = Dataset()"
   ]
  },
  {
   "cell_type": "code",
   "execution_count": 41,
   "id": "43601993",
   "metadata": {},
   "outputs": [
    {
     "name": "stdout",
     "output_type": "stream",
     "text": [
      "Index(['type', '1007_s_at', '1053_at', '117_at', '121_at', '1255_g_at',\n",
      "       '1294_at', '1316_at', '1320_at', '1405_i_at',\n",
      "       ...\n",
      "       'AFFX-r2-Hs28SrRNA-5_at', 'AFFX-r2-Hs28SrRNA-M_at',\n",
      "       'AFFX-r2-P1-cre-3_at', 'AFFX-r2-P1-cre-5_at', 'AFFX-ThrX-3_at',\n",
      "       'AFFX-ThrX-5_at', 'AFFX-ThrX-M_at', 'AFFX-TrpnX-3_at',\n",
      "       'AFFX-TrpnX-5_at', 'AFFX-TrpnX-M_at'],\n",
      "      dtype='object', length=22284)\n"
     ]
    }
   ],
   "source": [
    "print(dataset.data.columns)"
   ]
  },
  {
   "cell_type": "code",
   "execution_count": 42,
   "id": "87ab59ec",
   "metadata": {},
   "outputs": [
    {
     "name": "stdout",
     "output_type": "stream",
     "text": [
      "                  type  1007_s_at   1053_at    117_at    121_at  1255_g_at  \\\n",
      "samples                                                                      \n",
      "GSM705467.CEL.gz     0   7.409521  5.009216  4.173607  7.315369   3.185411   \n",
      "GSM705468.CEL.gz     0   7.177109  5.415108  4.426778  7.550818   3.134181   \n",
      "GSM705469.CEL.gz     0   6.564918  5.248020  4.252414  7.175169   3.017718   \n",
      "GSM705470.CEL.gz     0   6.872028  5.155963  4.388849  7.365933   3.031735   \n",
      "GSM705471.CEL.gz     0   7.402105  5.509826  4.284291  7.214947   2.925269   \n",
      "\n",
      "                   1294_at   1316_at   1320_at  1405_i_at  ...  \\\n",
      "samples                                                    ...   \n",
      "GSM705467.CEL.gz  7.620644  3.731541  3.471587   4.167374  ...   \n",
      "GSM705468.CEL.gz  7.685723  3.907953  3.650995   3.860015  ...   \n",
      "GSM705469.CEL.gz  7.956261  3.354557  3.302989   3.335324  ...   \n",
      "GSM705470.CEL.gz  7.830002  3.508926  3.412491   3.439769  ...   \n",
      "GSM705471.CEL.gz  7.789838  3.610425  3.362593   3.412095  ...   \n",
      "\n",
      "                  AFFX-r2-Hs28SrRNA-5_at  AFFX-r2-Hs28SrRNA-M_at  \\\n",
      "samples                                                            \n",
      "GSM705467.CEL.gz                2.968822                3.223820   \n",
      "GSM705468.CEL.gz                2.982888                3.690411   \n",
      "GSM705469.CEL.gz                2.897425                3.611584   \n",
      "GSM705470.CEL.gz                3.024722                3.713087   \n",
      "GSM705471.CEL.gz                3.259802                4.096010   \n",
      "\n",
      "                  AFFX-r2-P1-cre-3_at  AFFX-r2-P1-cre-5_at  AFFX-ThrX-3_at  \\\n",
      "samples                                                                      \n",
      "GSM705467.CEL.gz            11.968681            12.100004        3.457507   \n",
      "GSM705468.CEL.gz            12.318004            12.486741        3.396412   \n",
      "GSM705469.CEL.gz            11.748222            11.807578        3.265585   \n",
      "GSM705470.CEL.gz            12.208588            12.148604        3.175092   \n",
      "GSM705471.CEL.gz            11.641305            11.713311        3.507025   \n",
      "\n",
      "                  AFFX-ThrX-5_at  AFFX-ThrX-M_at  AFFX-TrpnX-3_at  \\\n",
      "samples                                                             \n",
      "GSM705467.CEL.gz        2.967138        2.790814         2.563377   \n",
      "GSM705468.CEL.gz        3.109629        2.856499         2.603355   \n",
      "GSM705469.CEL.gz        3.057079        2.724642         2.440532   \n",
      "GSM705470.CEL.gz        2.896168        2.798296         2.522343   \n",
      "GSM705471.CEL.gz        3.119397        2.761294         2.546541   \n",
      "\n",
      "                  AFFX-TrpnX-5_at  AFFX-TrpnX-M_at  \n",
      "samples                                             \n",
      "GSM705467.CEL.gz         2.860505         2.608381  \n",
      "GSM705468.CEL.gz         2.908509         2.634063  \n",
      "GSM705469.CEL.gz         2.626871         2.673293  \n",
      "GSM705470.CEL.gz         2.762835         2.624163  \n",
      "GSM705471.CEL.gz         2.748511         2.738165  \n",
      "\n",
      "[5 rows x 22284 columns]\n"
     ]
    }
   ],
   "source": [
    "print(dataset.data.head())"
   ]
  },
  {
   "cell_type": "code",
   "execution_count": 43,
   "id": "b224e5a6",
   "metadata": {},
   "outputs": [
    {
     "name": "stdout",
     "output_type": "stream",
     "text": [
      "Index(['B-CELL_ALL', 'B-CELL_ALL_TCF3-PBX1', 'B-CELL_ALL_HYPERDIP',\n",
      "       'B-CELL_ALL_HYPO', 'B-CELL_ALL_MLL', 'B-CELL_ALL_T-ALL',\n",
      "       'B-CELL_ALL_ETV6-RUNX1'],\n",
      "      dtype='object')\n"
     ]
    }
   ],
   "source": [
    "print(dataset.get_label_mapping())\n",
    "# ? What do these classes represent?"
   ]
  },
  {
   "cell_type": "markdown",
   "id": "631b2123",
   "metadata": {},
   "source": [
    "## Class imbalance"
   ]
  },
  {
   "cell_type": "code",
   "execution_count": 44,
   "id": "734a8d59",
   "metadata": {},
   "outputs": [
    {
     "name": "stdout",
     "output_type": "stream",
     "text": [
      "B-CELL_ALL: 74\n",
      "B-CELL_ALL_TCF3-PBX1: 53\n",
      "B-CELL_ALL_HYPERDIP: 51\n",
      "B-CELL_ALL_HYPO: 46\n",
      "B-CELL_ALL_MLL: 22\n",
      "B-CELL_ALL_T-ALL: 18\n",
      "B-CELL_ALL_ETV6-RUNX1: 17\n"
     ]
    }
   ],
   "source": [
    "for cls, cnt in zip(dataset.get_label_mapping(), dataset.data[\"type\"].value_counts()):\n",
    "    print(f\"{cls}: {cnt}\")"
   ]
  },
  {
   "cell_type": "code",
   "execution_count": 45,
   "id": "c244ddbc",
   "metadata": {},
   "outputs": [],
   "source": [
    "from sklearn.model_selection import train_test_split"
   ]
  },
  {
   "cell_type": "code",
   "execution_count": 46,
   "id": "7f6feeb9",
   "metadata": {},
   "outputs": [],
   "source": [
    "X = dataset.data.drop('type', axis=1)  # features\n",
    "y = dataset.data['type']  # target"
   ]
  },
  {
   "cell_type": "code",
   "execution_count": 47,
   "id": "d1887fc6",
   "metadata": {},
   "outputs": [],
   "source": [
    "random_seed = 42\n",
    "X_train, X_test, y_train, y_test = train_test_split(\n",
    "    X, y, test_size=0.2, random_state=random_seed\n",
    ")"
   ]
  },
  {
   "cell_type": "markdown",
   "id": "8397e3b4",
   "metadata": {},
   "source": [
    "## Models"
   ]
  },
  {
   "cell_type": "code",
   "execution_count": 48,
   "id": "bc97298a",
   "metadata": {},
   "outputs": [],
   "source": [
    "from sklearn.neural_network import MLPClassifier\n",
    "from sklearn.neighbors import KNeighborsClassifier\n",
    "from sklearn.metrics import confusion_matrix, classification_report\n",
    "import sklearn.base"
   ]
  },
  {
   "cell_type": "code",
   "execution_count": 49,
   "id": "acfe9db1",
   "metadata": {},
   "outputs": [],
   "source": [
    "import numpy as np\n",
    "import seaborn as sns\n",
    "\n",
    "\n",
    "def train_and_evaluate_model(\n",
    "    model: sklearn.base.BaseEstimator,\n",
    "    X_train: pd.DataFrame,\n",
    "    y_train: pd.Series,\n",
    "    X_test: pd.DataFrame,\n",
    "    y_test: pd.Series,\n",
    ") -> tuple[np.ndarray, str, np.ndarray, str]:\n",
    "    # Train the model using cross-validation\n",
    "    model.fit(X_train, y_train)\n",
    "    y_train_pred = model.predict(X_train)\n",
    "\n",
    "    # Evaluate the model on training data\n",
    "    train_confusion_matrix = confusion_matrix(y_train, y_train_pred)\n",
    "    train_classification_report = classification_report(\n",
    "        y_train,\n",
    "        y_train_pred,\n",
    "        zero_division=1,\n",
    "        target_names=dataset.get_label_mapping(),\n",
    "    )\n",
    "\n",
    "    # Evaluate the model on validation data\n",
    "    model.fit(X_train, y_train)\n",
    "    y_test_pred = model.predict(X_test)\n",
    "    test_confusion_matrix = confusion_matrix(y_test, y_test_pred)\n",
    "    test_classification_report = classification_report(\n",
    "        y_test,\n",
    "        y_test_pred,\n",
    "        zero_division=1,\n",
    "        target_names=dataset.get_label_mapping(),\n",
    "    )\n",
    "\n",
    "    return (\n",
    "        train_confusion_matrix,\n",
    "        train_classification_report,\n",
    "        test_confusion_matrix,\n",
    "        test_classification_report,\n",
    "    )\n",
    "\n",
    "\n",
    "def plot_confusion_matrix_and_report(\n",
    "    train_confusion_matrix: np.ndarray,\n",
    "    train_classification_report: str,\n",
    "    test_confusion_matrix: np.ndarray,\n",
    "    test_classification_report: str,\n",
    "    estimator_name: str,\n",
    ") -> None:\n",
    "    fig, axs = plt.subplots(1, 2, figsize=(12, 6))\n",
    "\n",
    "    # Plot confusion matrix for train data\n",
    "    sns.heatmap(\n",
    "        train_confusion_matrix, annot=True, fmt=\"d\", ax=axs[0]\n",
    "    )\n",
    "    axs[0].set_title(f\"Train Confusion Matrix ({estimator_name})\")\n",
    "    axs[0].set_xlabel(\"Predicted\")\n",
    "    axs[0].set_ylabel(\"Actual\")\n",
    "\n",
    "    # Plot confusion matrix for test data\n",
    "    sns.heatmap(test_confusion_matrix, annot=True, fmt=\"d\", ax=axs[1])\n",
    "    axs[1].set_title(f\"Test Confusion Matrix ({estimator_name})\")\n",
    "    axs[1].set_xlabel(\"Predicted\")\n",
    "    axs[1].set_ylabel(\"Actual\")\n",
    "    plt.tight_layout()\n",
    "    plt.show()\n",
    "\n",
    "    print(f\"{estimator_name} (Train) Classification Report:\")\n",
    "    print(train_classification_report)\n",
    "\n",
    "    print(\"========================================\")\n",
    "\n",
    "    print(f\"{estimator_name} (Test) Classification Report:\")\n",
    "    print(test_classification_report)\n"
   ]
  },
  {
   "cell_type": "code",
   "execution_count": 50,
   "id": "18d7d297",
   "metadata": {},
   "outputs": [],
   "source": [
    "MLP = MLPClassifier(\n",
    "    hidden_layer_sizes=(100,),\n",
    "    learning_rate_init=0.3,\n",
    "    momentum=0.2,\n",
    "    max_iter=500,\n",
    "    random_state=random_seed,\n",
    "    verbose=True,\n",
    ")\n",
    "KNN = KNeighborsClassifier(n_neighbors=5)"
   ]
  },
  {
   "cell_type": "code",
   "execution_count": 51,
   "id": "4613acdc",
   "metadata": {},
   "outputs": [
    {
     "name": "stdout",
     "output_type": "stream",
     "text": [
      "Iteration 1, loss = 9.01095941\n",
      "Iteration 2, loss = 29.27743394\n",
      "Iteration 3, loss = 33.64673152\n",
      "Iteration 4, loss = 24.98294053\n",
      "Iteration 5, loss = 3.20496779\n",
      "Iteration 6, loss = 3.33986260\n",
      "Iteration 7, loss = 3.44993487\n",
      "Iteration 8, loss = 3.57581643\n",
      "Iteration 9, loss = 3.72716241\n",
      "Iteration 10, loss = 3.88700365\n",
      "Iteration 11, loss = 4.05193621\n",
      "Iteration 12, loss = 4.20712906\n",
      "Iteration 13, loss = 4.33522997\n",
      "Iteration 14, loss = 4.44027065\n",
      "Iteration 15, loss = 4.52676035\n",
      "Iteration 16, loss = 4.59488101\n",
      "Training loss did not improve more than tol=0.000100 for 10 consecutive epochs. Stopping.\n",
      "Iteration 1, loss = 9.01095941\n",
      "Iteration 2, loss = 29.27743394\n",
      "Iteration 3, loss = 33.64673152\n",
      "Iteration 4, loss = 24.98294053\n",
      "Iteration 5, loss = 3.20496779\n",
      "Iteration 6, loss = 3.33986260\n",
      "Iteration 7, loss = 3.44993487\n",
      "Iteration 8, loss = 3.57581643\n",
      "Iteration 9, loss = 3.72716241\n",
      "Iteration 10, loss = 3.88700365\n",
      "Iteration 11, loss = 4.05193621\n",
      "Iteration 12, loss = 4.20712906\n",
      "Iteration 13, loss = 4.33522997\n",
      "Iteration 14, loss = 4.44027065\n",
      "Iteration 15, loss = 4.52676035\n",
      "Iteration 16, loss = 4.59488101\n",
      "Training loss did not improve more than tol=0.000100 for 10 consecutive epochs. Stopping.\n"
     ]
    }
   ],
   "source": [
    "(\n",
    "    MLP_train_confusion_matrix,\n",
    "    MLP_train_classification_report,\n",
    "    MLP_test_confusion_matrix,\n",
    "    MLP_test_classification_report,\n",
    ") = train_and_evaluate_model(MLP, X_train, y_train, X_test, y_test)"
   ]
  },
  {
   "cell_type": "code",
   "execution_count": 52,
   "id": "ccd01ade",
   "metadata": {},
   "outputs": [
    {
     "data": {
      "image/png": "[encoded data removed]",
      "text/plain": [
       "<Figure size 1200x600 with 4 Axes>"
      ]
     },
     "metadata": {},
     "output_type": "display_data"
    },
    {
     "name": "stdout",
     "output_type": "stream",
     "text": [
      "MLP (Train) Classification Report:\n",
      "                       precision    recall  f1-score   support\n",
      "\n",
      "           B-CELL_ALL       0.26      1.00      0.41        58\n",
      " B-CELL_ALL_TCF3-PBX1       1.00      0.00      0.00        15\n",
      "  B-CELL_ALL_HYPERDIP       1.00      0.00      0.00        42\n",
      "      B-CELL_ALL_HYPO       1.00      0.00      0.00        13\n",
      "       B-CELL_ALL_MLL       1.00      0.00      0.00        14\n",
      "     B-CELL_ALL_T-ALL       1.00      0.00      0.00        38\n",
      "B-CELL_ALL_ETV6-RUNX1       1.00      0.00      0.00        44\n",
      "\n",
      "             accuracy                           0.26       224\n",
      "            macro avg       0.89      0.14      0.06       224\n",
      "         weighted avg       0.81      0.26      0.11       224\n",
      "\n",
      "========================================\n",
      "MLP (Test) Classification Report:\n",
      "                       precision    recall  f1-score   support\n",
      "\n",
      "           B-CELL_ALL       0.28      1.00      0.44        16\n",
      " B-CELL_ALL_TCF3-PBX1       1.00      0.00      0.00         7\n",
      "  B-CELL_ALL_HYPERDIP       1.00      0.00      0.00         9\n",
      "      B-CELL_ALL_HYPO       1.00      0.00      0.00         5\n",
      "       B-CELL_ALL_MLL       1.00      0.00      0.00         3\n",
      "     B-CELL_ALL_T-ALL       1.00      0.00      0.00         8\n",
      "B-CELL_ALL_ETV6-RUNX1       1.00      0.00      0.00         9\n",
      "\n",
      "             accuracy                           0.28        57\n",
      "            macro avg       0.90      0.14      0.06        57\n",
      "         weighted avg       0.80      0.28      0.12        57\n",
      "\n"
     ]
    }
   ],
   "source": [
    "plot_confusion_matrix_and_report(\n",
    "    MLP_train_confusion_matrix, MLP_train_classification_report,\n",
    "    MLP_test_confusion_matrix, MLP_test_classification_report,\n",
    "    \"MLP\"\n",
    ")"
   ]
  },
  {
   "cell_type": "code",
   "execution_count": 53,
   "id": "d7ddc4a1",
   "metadata": {},
   "outputs": [],
   "source": [
    "(\n",
    "    KNN_train_confusion_matrix,\n",
    "    KNN_train_classification_report,\n",
    "    KNN_test_confusion_matrix,\n",
    "    KNN_test_classification_report,\n",
    ") = train_and_evaluate_model(KNN, X_train, y_train, X_test, y_test)"
   ]
  },
  {
   "cell_type": "code",
   "execution_count": 54,
   "id": "74125577",
   "metadata": {},
   "outputs": [
    {
     "data": {
      "image/png": "[encoded data removed]",
      "text/plain": [
       "<Figure size 1200x600 with 4 Axes>"
      ]
     },
     "metadata": {},
     "output_type": "display_data"
    },
    {
     "name": "stdout",
     "output_type": "stream",
     "text": [
      "KNN (Train) Classification Report:\n",
      "                       precision    recall  f1-score   support\n",
      "\n",
      "           B-CELL_ALL       0.82      0.84      0.83        58\n",
      " B-CELL_ALL_TCF3-PBX1       0.93      0.93      0.93        15\n",
      "  B-CELL_ALL_HYPERDIP       0.85      0.95      0.90        42\n",
      "      B-CELL_ALL_HYPO       1.00      0.08      0.14        13\n",
      "       B-CELL_ALL_MLL       1.00      0.93      0.96        14\n",
      "     B-CELL_ALL_T-ALL       1.00      1.00      1.00        38\n",
      "B-CELL_ALL_ETV6-RUNX1       0.88      1.00      0.94        44\n",
      "\n",
      "             accuracy                           0.89       224\n",
      "            macro avg       0.93      0.82      0.81       224\n",
      "         weighted avg       0.90      0.89      0.87       224\n",
      "\n",
      "========================================\n",
      "KNN (Test) Classification Report:\n",
      "                       precision    recall  f1-score   support\n",
      "\n",
      "           B-CELL_ALL       0.87      0.81      0.84        16\n",
      " B-CELL_ALL_TCF3-PBX1       0.78      1.00      0.88         7\n",
      "  B-CELL_ALL_HYPERDIP       0.75      1.00      0.86         9\n",
      "      B-CELL_ALL_HYPO       1.00      0.00      0.00         5\n",
      "       B-CELL_ALL_MLL       1.00      1.00      1.00         3\n",
      "     B-CELL_ALL_T-ALL       1.00      1.00      1.00         8\n",
      "B-CELL_ALL_ETV6-RUNX1       0.80      0.89      0.84         9\n",
      "\n",
      "             accuracy                           0.84        57\n",
      "            macro avg       0.88      0.81      0.77        57\n",
      "         weighted avg       0.86      0.84      0.80        57\n",
      "\n"
     ]
    }
   ],
   "source": [
    "plot_confusion_matrix_and_report(\n",
    "    KNN_train_confusion_matrix, KNN_train_classification_report,\n",
    "    KNN_test_confusion_matrix, KNN_test_classification_report,\n",
    "    \"KNN\"\n",
    ")"
   ]
  },
  {
   "cell_type": "code",
   "execution_count": 55,
   "id": "f4ccab0c",
   "metadata": {},
   "outputs": [],
   "source": [
    "dill.dump_session(SESSION_FILE)\n"
   ]
  }
 ],
 "metadata": {
  "kernelspec": {
   "display_name": "Python 3 (ipykernel)",
   "language": "python",
   "name": "python3"
  },
  "language_info": {
   "codemirror_mode": {
    "name": "ipython",
    "version": 3
   },
   "file_extension": ".py",
   "mimetype": "text/x-python",
   "name": "python",
   "nbconvert_exporter": "python",
   "pygments_lexer": "ipython3",
   "version": "3.11.4"
  }
 },
 "nbformat": 4,
 "nbformat_minor": 5
}
