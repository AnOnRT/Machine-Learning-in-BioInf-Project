{
 "cells": [
  {
   "cell_type": "code",
   "execution_count": 6,
   "id": "3f92e086",
   "metadata": {},
   "outputs": [],
   "source": [
    "import os\n",
    "import sys\n",
    "import urllib.request\n",
    "import pandas as pd\n",
    "import numpy as np\n",
    "import matplotlib.pyplot as plt"
   ]
  },
  {
   "cell_type": "code",
   "execution_count": 48,
   "id": "24a3794f",
   "metadata": {},
   "outputs": [],
   "source": [
    "class Dataset:\n",
    "    def __init__(self, name=\"Leukemia_GSE28497.csv\",\n",
    "                 url=\"https://sbcb.inf.ufrgs.br/data/cumida/Genes/Leukemia/GSE28497/\"):\n",
    "        self.filepath = name\n",
    "        if not os.path.exists(self.filepath):\n",
    "            print(f\"Downloading dataset {name}...\", file=sys.stderr)\n",
    "            urllib.request.urlretrieve(url + name, filename=name)\n",
    "        self.load_dataset()\n",
    "\n",
    "    def load_dataset(self):\n",
    "        # Load the dataset\n",
    "        self.data = pd.read_csv(self.filepath)        \n",
    "        print(self.data.head())\n",
    "        self.data.set_index(self.data.columns[0], inplace=True) #As it is a human identifier, can use it as ind\n",
    "        self.data['type'], self.type2num = pd.factorize(self.data['type'])\n"
   ]
  },
  {
   "cell_type": "code",
   "execution_count": 49,
   "id": "cb6b5fc1",
   "metadata": {},
   "outputs": [
    {
     "name": "stdout",
     "output_type": "stream",
     "text": [
      "            samples        type  1007_s_at   1053_at    117_at    121_at  \\\n",
      "0  GSM705467.CEL.gz  B-CELL_ALL   7.409521  5.009216  4.173607  7.315369   \n",
      "1  GSM705468.CEL.gz  B-CELL_ALL   7.177109  5.415108  4.426778  7.550818   \n",
      "2  GSM705469.CEL.gz  B-CELL_ALL   6.564918  5.248020  4.252414  7.175169   \n",
      "3  GSM705470.CEL.gz  B-CELL_ALL   6.872028  5.155963  4.388849  7.365933   \n",
      "4  GSM705471.CEL.gz  B-CELL_ALL   7.402105  5.509826  4.284291  7.214947   \n",
      "\n",
      "   1255_g_at   1294_at   1316_at   1320_at  ...  AFFX-r2-Hs28SrRNA-5_at  \\\n",
      "0   3.185411  7.620644  3.731541  3.471587  ...                2.968822   \n",
      "1   3.134181  7.685723  3.907953  3.650995  ...                2.982888   \n",
      "2   3.017718  7.956261  3.354557  3.302989  ...                2.897425   \n",
      "3   3.031735  7.830002  3.508926  3.412491  ...                3.024722   \n",
      "4   2.925269  7.789838  3.610425  3.362593  ...                3.259802   \n",
      "\n",
      "   AFFX-r2-Hs28SrRNA-M_at  AFFX-r2-P1-cre-3_at  AFFX-r2-P1-cre-5_at  \\\n",
      "0                3.223820            11.968681            12.100004   \n",
      "1                3.690411            12.318004            12.486741   \n",
      "2                3.611584            11.748222            11.807578   \n",
      "3                3.713087            12.208588            12.148604   \n",
      "4                4.096010            11.641305            11.713311   \n",
      "\n",
      "   AFFX-ThrX-3_at  AFFX-ThrX-5_at  AFFX-ThrX-M_at  AFFX-TrpnX-3_at  \\\n",
      "0        3.457507        2.967138        2.790814         2.563377   \n",
      "1        3.396412        3.109629        2.856499         2.603355   \n",
      "2        3.265585        3.057079        2.724642         2.440532   \n",
      "3        3.175092        2.896168        2.798296         2.522343   \n",
      "4        3.507025        3.119397        2.761294         2.546541   \n",
      "\n",
      "   AFFX-TrpnX-5_at  AFFX-TrpnX-M_at  \n",
      "0         2.860505         2.608381  \n",
      "1         2.908509         2.634063  \n",
      "2         2.626871         2.673293  \n",
      "3         2.762835         2.624163  \n",
      "4         2.748511         2.738165  \n",
      "\n",
      "[5 rows x 22285 columns]\n"
     ]
    }
   ],
   "source": [
    "dataset = Dataset()"
   ]
  },
  {
   "cell_type": "code",
   "execution_count": 50,
   "id": "1849e51f",
   "metadata": {},
   "outputs": [
    {
     "name": "stdout",
     "output_type": "stream",
     "text": [
      "Index(['type', '1007_s_at', '1053_at', '117_at', '121_at', '1255_g_at',\n",
      "       '1294_at', '1316_at', '1320_at', '1405_i_at',\n",
      "       ...\n",
      "       'AFFX-r2-Hs28SrRNA-5_at', 'AFFX-r2-Hs28SrRNA-M_at',\n",
      "       'AFFX-r2-P1-cre-3_at', 'AFFX-r2-P1-cre-5_at', 'AFFX-ThrX-3_at',\n",
      "       'AFFX-ThrX-5_at', 'AFFX-ThrX-M_at', 'AFFX-TrpnX-3_at',\n",
      "       'AFFX-TrpnX-5_at', 'AFFX-TrpnX-M_at'],\n",
      "      dtype='object', length=22284)\n"
     ]
    }
   ],
   "source": [
    "print(dataset.data.columns)"
   ]
  },
  {
   "cell_type": "code",
   "execution_count": 51,
   "id": "2df93dd7",
   "metadata": {},
   "outputs": [
    {
     "name": "stdout",
     "output_type": "stream",
     "text": [
      "                  type  1007_s_at   1053_at    117_at    121_at  1255_g_at  \\\n",
      "samples                                                                      \n",
      "GSM705467.CEL.gz     0   7.409521  5.009216  4.173607  7.315369   3.185411   \n",
      "GSM705468.CEL.gz     0   7.177109  5.415108  4.426778  7.550818   3.134181   \n",
      "GSM705469.CEL.gz     0   6.564918  5.248020  4.252414  7.175169   3.017718   \n",
      "GSM705470.CEL.gz     0   6.872028  5.155963  4.388849  7.365933   3.031735   \n",
      "GSM705471.CEL.gz     0   7.402105  5.509826  4.284291  7.214947   2.925269   \n",
      "\n",
      "                   1294_at   1316_at   1320_at  1405_i_at  ...  \\\n",
      "samples                                                    ...   \n",
      "GSM705467.CEL.gz  7.620644  3.731541  3.471587   4.167374  ...   \n",
      "GSM705468.CEL.gz  7.685723  3.907953  3.650995   3.860015  ...   \n",
      "GSM705469.CEL.gz  7.956261  3.354557  3.302989   3.335324  ...   \n",
      "GSM705470.CEL.gz  7.830002  3.508926  3.412491   3.439769  ...   \n",
      "GSM705471.CEL.gz  7.789838  3.610425  3.362593   3.412095  ...   \n",
      "\n",
      "                  AFFX-r2-Hs28SrRNA-5_at  AFFX-r2-Hs28SrRNA-M_at  \\\n",
      "samples                                                            \n",
      "GSM705467.CEL.gz                2.968822                3.223820   \n",
      "GSM705468.CEL.gz                2.982888                3.690411   \n",
      "GSM705469.CEL.gz                2.897425                3.611584   \n",
      "GSM705470.CEL.gz                3.024722                3.713087   \n",
      "GSM705471.CEL.gz                3.259802                4.096010   \n",
      "\n",
      "                  AFFX-r2-P1-cre-3_at  AFFX-r2-P1-cre-5_at  AFFX-ThrX-3_at  \\\n",
      "samples                                                                      \n",
      "GSM705467.CEL.gz            11.968681            12.100004        3.457507   \n",
      "GSM705468.CEL.gz            12.318004            12.486741        3.396412   \n",
      "GSM705469.CEL.gz            11.748222            11.807578        3.265585   \n",
      "GSM705470.CEL.gz            12.208588            12.148604        3.175092   \n",
      "GSM705471.CEL.gz            11.641305            11.713311        3.507025   \n",
      "\n",
      "                  AFFX-ThrX-5_at  AFFX-ThrX-M_at  AFFX-TrpnX-3_at  \\\n",
      "samples                                                             \n",
      "GSM705467.CEL.gz        2.967138        2.790814         2.563377   \n",
      "GSM705468.CEL.gz        3.109629        2.856499         2.603355   \n",
      "GSM705469.CEL.gz        3.057079        2.724642         2.440532   \n",
      "GSM705470.CEL.gz        2.896168        2.798296         2.522343   \n",
      "GSM705471.CEL.gz        3.119397        2.761294         2.546541   \n",
      "\n",
      "                  AFFX-TrpnX-5_at  AFFX-TrpnX-M_at  \n",
      "samples                                             \n",
      "GSM705467.CEL.gz         2.860505         2.608381  \n",
      "GSM705468.CEL.gz         2.908509         2.634063  \n",
      "GSM705469.CEL.gz         2.626871         2.673293  \n",
      "GSM705470.CEL.gz         2.762835         2.624163  \n",
      "GSM705471.CEL.gz         2.748511         2.738165  \n",
      "\n",
      "[5 rows x 22284 columns]\n"
     ]
    }
   ],
   "source": [
    "print(dataset.data.head())"
   ]
  },
  {
   "cell_type": "code",
   "execution_count": 37,
   "id": "1c9c000b",
   "metadata": {},
   "outputs": [
    {
     "name": "stdout",
     "output_type": "stream",
     "text": [
      "Index(['B-CELL_ALL', 'B-CELL_ALL_TCF3-PBX1', 'B-CELL_ALL_HYPERDIP',\n",
      "       'B-CELL_ALL_HYPO', 'B-CELL_ALL_MLL', 'B-CELL_ALL_T-ALL',\n",
      "       'B-CELL_ALL_ETV6-RUNX1'],\n",
      "      dtype='object')\n"
     ]
    }
   ],
   "source": [
    "print(dataset.type2num)"
   ]
  },
  {
   "cell_type": "code",
   "execution_count": 52,
   "id": "043e9ed1",
   "metadata": {},
   "outputs": [],
   "source": [
    "from sklearn.model_selection import train_test_split"
   ]
  },
  {
   "cell_type": "code",
   "execution_count": 54,
   "id": "5472095d",
   "metadata": {},
   "outputs": [],
   "source": [
    "X = dataset.data.drop('type', axis=1)  # features\n",
    "y = dataset.data['type']  # target"
   ]
  },
  {
   "cell_type": "code",
   "execution_count": 60,
   "id": "3a9a48e5",
   "metadata": {},
   "outputs": [],
   "source": [
    "random_seed = 42\n",
    "X_train, X_test, y_train, y_test = train_test_split(X, y, test_size=0.2, random_state=random_seed)"
   ]
  },
  {
   "cell_type": "code",
   "execution_count": null,
   "id": "ea605d7f",
   "metadata": {},
   "outputs": [],
   "source": []
  },
  {
   "cell_type": "code",
   "execution_count": null,
   "id": "6205a97b",
   "metadata": {},
   "outputs": [],
   "source": []
  }
 ],
 "metadata": {
  "kernelspec": {
   "display_name": "Python 3 (ipykernel)",
   "language": "python",
   "name": "python3"
  },
  "language_info": {
   "codemirror_mode": {
    "name": "ipython",
    "version": 3
   },
   "file_extension": ".py",
   "mimetype": "text/x-python",
   "name": "python",
   "nbconvert_exporter": "python",
   "pygments_lexer": "ipython3",
   "version": "3.9.18"
  }
 },
 "nbformat": 4,
 "nbformat_minor": 5
}
